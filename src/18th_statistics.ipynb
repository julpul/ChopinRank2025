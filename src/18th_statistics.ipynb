{
 "cells": [
  {
   "metadata": {
    "ExecuteTime": {
     "end_time": "2025-10-18T22:25:12.740012Z",
     "start_time": "2025-10-18T22:25:12.728952Z"
    }
   },
   "cell_type": "code",
   "source": [
    "import json\n",
    "import os"
   ],
   "id": "a63d6611e618207b",
   "outputs": [],
   "execution_count": 15
  },
  {
   "metadata": {
    "collapsed": true,
    "ExecuteTime": {
     "end_time": "2025-10-18T22:27:14.099262Z",
     "start_time": "2025-10-18T22:27:14.089279Z"
    }
   },
   "cell_type": "code",
   "source": [
    "pianos = {}\n",
    "for dirpath, _, filenames in os.walk(\"..\\\\Data\\\\raw\"):\n",
    "    for filename in filenames:\n",
    "        if filename.endswith(\".json\"):\n",
    "            filepath = os.path.join(dirpath, filename)\n",
    "            with open(filepath, encoding='utf-8') as json_file:\n",
    "                data = json.load(json_file)\n",
    "                if data['piano'] in pianos:\n",
    "                    pianos[data['piano']] += 1\n",
    "                else:\n",
    "                    pianos[data['piano']] = 1\n",
    "print(pianos)\n"
   ],
   "id": "initial_id",
   "outputs": [
    {
     "name": "stdout",
     "output_type": "stream",
     "text": [
      "{'Shigeru Kawai': 3, 'Steinway & Sons': 1}\n"
     ]
    }
   ],
   "execution_count": 17
  },
  {
   "metadata": {},
   "cell_type": "markdown",
   "source": "Pianos statistics",
   "id": "a298c037cc3c9d69"
  }
 ],
 "metadata": {
  "kernelspec": {
   "display_name": "Python 3",
   "language": "python",
   "name": "python3"
  },
  "language_info": {
   "codemirror_mode": {
    "name": "ipython",
    "version": 2
   },
   "file_extension": ".py",
   "mimetype": "text/x-python",
   "name": "python",
   "nbconvert_exporter": "python",
   "pygments_lexer": "ipython2",
   "version": "2.7.6"
  }
 },
 "nbformat": 4,
 "nbformat_minor": 5
}
